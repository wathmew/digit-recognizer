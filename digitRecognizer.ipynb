{
  "nbformat": 4,
  "nbformat_minor": 0,
  "metadata": {
    "colab": {
      "provenance": []
    },
    "kernelspec": {
      "name": "python3",
      "display_name": "Python 3"
    }
  },
  "cells": [
    {
      "cell_type": "code",
      "metadata": {
        "id": "ZQ57FP3Zdq19"
      },
      "source": [
        "import os\n",
        "import numpy as np\n",
        "import matplotlib.pyplot as plt\n",
        "import torch\n",
        "from torch.utils.data import TensorDataset, DataLoader\n",
        "from PIL import Image"
      ],
      "execution_count": null,
      "outputs": []
    },
    {
      "cell_type": "code",
      "metadata": {
        "id": "PyqBmQZE7Uqw",
        "colab": {
          "base_uri": "https://localhost:8080/"
        },
        "outputId": "09a06be1-8b3b-46ab-f6ff-c1d5ea20bb24"
      },
      "source": [
        "# To add your own Drive Run this cell.\n",
        "from google.colab import drive\n",
        "drive.mount('/content/drive')"
      ],
      "execution_count": null,
      "outputs": [
        {
          "output_type": "stream",
          "name": "stdout",
          "text": [
            "Mounted at /content/drive\n"
          ]
        }
      ]
    },
    {
      "cell_type": "code",
      "metadata": {
        "id": "q4RwWjtN2sf4"
      },
      "source": [
        "######################################################################\n",
        "# OneLayerNetwork\n",
        "######################################################################\n",
        "\n",
        "class OneLayerNetwork(torch.nn.Module):\n",
        "    def __init__(self):\n",
        "        super(OneLayerNetwork, self).__init__()\n",
        "\n",
        "        ### ========== TODO : START ========== ###\n",
        "        ### part d: implement OneLayerNetwork with torch.nn.Linear\n",
        "        \n",
        "        self.layer = torch.nn.Linear(784, 3, bias=True)\n",
        "        ### ========== TODO : END ========== ###\n",
        "\n",
        "    def forward(self, x):\n",
        "        # x.shape = (n_batch, n_features)\n",
        "\n",
        "        ### ========== TODO : START ========== ###\n",
        "        ### part d: implement the foward function\n",
        "        outputs = self.layer(x)\n",
        "        ### ========== TODO : END ========== ###\n",
        "        return outputs"
      ],
      "execution_count": null,
      "outputs": []
    },
    {
      "cell_type": "code",
      "metadata": {
        "id": "JRbW6WPv25tE"
      },
      "source": [
        "######################################################################\n",
        "# TwoLayerNetwork\n",
        "######################################################################\n",
        "\n",
        "class TwoLayerNetwork(torch.nn.Module):\n",
        "    def __init__(self):\n",
        "        super(TwoLayerNetwork, self).__init__()\n",
        "        ### ========== TODO : START ========== ###\n",
        "        ### part g: implement TwoLayerNetwork with torch.nn.Linear\n",
        "        self.layer1 = torch.nn.Linear(784, 400, bias=True)\n",
        "        self.layer2 = torch.nn.Linear(400, 3, bias=True)\n",
        "\n",
        "        self.net = torch.nn.Sequential(\n",
        "            self.layer1,\n",
        "            torch.nn.Sigmoid(),\n",
        "            self.layer2\n",
        "        )\n",
        "        ### ========== TODO : END ========== ###\n",
        "\n",
        "    def forward(self, x):\n",
        "        # x.shape = (n_batch, n_features)\n",
        "\n",
        "        ### ========== TODO : START ========== ###\n",
        "        ### part g: implement the foward function\n",
        "        outputs = self.net(x)\n",
        "        ### ========== TODO : END ========== ###\n",
        "        return outputs"
      ],
      "execution_count": null,
      "outputs": []
    },
    {
      "cell_type": "code",
      "metadata": {
        "id": "I06zHwgTeSs3"
      },
      "source": [
        "# load data from csv\n",
        "# X.shape = (n_examples, n_features), y.shape = (n_examples, )\n",
        "def load_data(filename):\n",
        "    data = np.loadtxt(filename)\n",
        "    y = data[:, 0].astype(int)\n",
        "    X = data[:, 1:].astype(np.float32) / 255\n",
        "    return X, y"
      ],
      "execution_count": null,
      "outputs": []
    },
    {
      "cell_type": "code",
      "metadata": {
        "id": "JvP1DJfteUOn"
      },
      "source": [
        "# plot one example\n",
        "# x.shape = (features, )\n",
        "def plot_img(x):\n",
        "    x = x.reshape(28, 28)\n",
        "    img = Image.fromarray(x*255)\n",
        "    plt.figure()\n",
        "    plt.imshow(img)\n",
        "    return"
      ],
      "execution_count": null,
      "outputs": []
    },
    {
      "cell_type": "code",
      "metadata": {
        "id": "RqaCgw9Z4Eef"
      },
      "source": [
        "def evaluate_loss(model, criterion, dataloader):\n",
        "    model.eval()\n",
        "    total_loss = 0.0\n",
        "    for batch_X, batch_y in dataloader:\n",
        "        outputs = model(batch_X)\n",
        "        loss = criterion(outputs, batch_y)\n",
        "        total_loss += loss.item()\n",
        "        \n",
        "    return total_loss / len(dataloader)"
      ],
      "execution_count": null,
      "outputs": []
    },
    {
      "cell_type": "code",
      "metadata": {
        "id": "uEnwn4sC4F3B"
      },
      "source": [
        "def evaluate_acc(model, dataloader):\n",
        "    model.eval()\n",
        "    total_acc = 0.0\n",
        "    for batch_X, batch_y in dataloader:\n",
        "        outputs = model(batch_X)\n",
        "        predictions = torch.argmax(outputs, dim=1)\n",
        "        total_acc += (predictions==batch_y).sum()\n",
        "        \n",
        "    return total_acc / len(dataloader.dataset)"
      ],
      "execution_count": null,
      "outputs": []
    },
    {
      "cell_type": "code",
      "metadata": {
        "id": "6OpXc_t7Jc5_"
      },
      "source": [
        "def train(model, criterion, optimizer, train_loader, valid_loader, epochs=31):\n",
        "    train_loss_list = []\n",
        "    valid_loss_list = []\n",
        "    train_acc_list = []\n",
        "    valid_acc_list = []\n",
        "    for epoch in range(1, epochs):\n",
        "        model.train()\n",
        "        for batch_X, batch_y in train_loader:\n",
        "            pass\n",
        "            ### ========== TODO : START ========== ###\n",
        "            ### part f: implement the training process\n",
        "            pred_y = model(batch_X)\n",
        "            loss = criterion(pred_y, batch_y)\n",
        "\n",
        "            optimizer.zero_grad()\n",
        "            loss.backward()\n",
        "            optimizer.step()\n",
        "            \n",
        "            ### ========== TODO : END ========== ###\n",
        "            \n",
        "        train_loss = evaluate_loss(model, criterion, train_loader)\n",
        "        valid_loss = evaluate_loss(model, criterion, valid_loader)\n",
        "        train_acc = evaluate_acc(model, train_loader)\n",
        "        valid_acc = evaluate_acc(model, valid_loader)\n",
        "        train_loss_list.append(train_loss)\n",
        "        valid_loss_list.append(valid_loss)\n",
        "        train_acc_list.append(train_acc)\n",
        "        valid_acc_list.append(valid_acc)\n",
        "\n",
        "        print(f\"| epoch {epoch:2d} | train loss {train_loss:.6f} | train acc {train_acc:.6f} | valid loss {valid_loss:.6f} | valid acc {valid_acc:.6f} |\")\n",
        "\n",
        "    return train_loss_list, valid_loss_list, train_acc_list, valid_acc_list"
      ],
      "execution_count": null,
      "outputs": []
    },
    {
      "cell_type": "code",
      "metadata": {
        "id": "KMmurb4-d39G",
        "colab": {
          "base_uri": "https://localhost:8080/",
          "height": 1000
        },
        "outputId": "817110ac-0f47-4038-a937-1523f283b980"
      },
      "source": [
        "######################################################################\n",
        "# main\n",
        "######################################################################\n",
        "\n",
        "# def main():\n",
        "\n",
        "# fix random seed\n",
        "np.random.seed(0)\n",
        "torch.manual_seed(0)\n",
        "\n",
        "# load data with correct file path\n",
        "\n",
        "### ========== TODO : START ========== ###\n",
        "data_directory_path =  \"/content/drive/My Drive/cm146/pset3\"\n",
        "### ========== TODO : END ========== ###\n",
        "\n",
        "# X.shape = (n_examples, n_features)\n",
        "# y.shape = (n_examples, )\n",
        "X_train, y_train = load_data(os.path.join(data_directory_path, \"ps3_train.csv\"))\n",
        "X_valid, y_valid = load_data(os.path.join(data_directory_path, \"ps3_valid.csv\"))\n",
        "X_test, y_test = load_data(os.path.join(data_directory_path, \"ps3_test.csv\"))\n",
        "\n",
        "### ========== TODO : START ========== ###\n",
        "### part a: print out three training images with different labels\n",
        "\n",
        "print(y_train[:10])\n",
        "plot_img(X_train[1])\n",
        "plot_img(X_train[0])\n",
        "plot_img(X_train[8])\n",
        "\n",
        "\n",
        "### ========== TODO : END ========== ###\n",
        "\n",
        "print(\"Data preparation...\")\n",
        "print(X_train.shape, X_test.shape)\n",
        "\n",
        "### ========== TODO : START ========== ###\n",
        "### part b: convert numpy arrays to tensors\n",
        "torch_X_train = torch.from_numpy(X_train)\n",
        "torch_y_train = torch.from_numpy(y_train)\n",
        "torch_X_test = torch.from_numpy(X_test)\n",
        "torch_y_test = torch.from_numpy(y_test)\n",
        "torch_X_valid = torch.from_numpy(X_valid)\n",
        "torch_y_valid = torch.from_numpy(y_valid)\n",
        "\n",
        "### ========== TODO : END ========== ###\n",
        "\n",
        "### ========== TODO : START ========== ###\n",
        "### part c: prepare dataloaders for training, validation, and testing\n",
        "###         we expect to get a batch of pairs (x_n, y_n) from the dataloader\n",
        "### train_loader = ...\n",
        "### valid_loader = ...\n",
        "### test_loader = ...\n",
        "\n",
        "train_loader = DataLoader(TensorDataset(torch_X_train, torch_y_train), batch_size=10, shuffle=True)\n",
        "valid_loader = DataLoader(TensorDataset(torch_X_valid, torch_y_valid), batch_size=10)\n",
        "test_loader = DataLoader(TensorDataset(torch_X_test, torch_y_test), batch_size=10)\n",
        "\n",
        "### ========== TODO : END ========== ###\n",
        "\n",
        "### ========== TODO : START ========== ###\n",
        "### part e: prepare OneLayerNetwork, criterion, and optimizer\n",
        "model_one = OneLayerNetwork()\n",
        "criterion = torch.nn.CrossEntropyLoss()\n",
        "optimizer = torch.optim.SGD(model_one.parameters(), lr=0.0005)\n",
        "\n",
        "### ========== TODO : END ========== ###\n",
        "\n",
        "print(\"Start training OneLayerNetwork...\")\n",
        "results_one = train(model_one, criterion, optimizer, train_loader, valid_loader, epochs=31)\n",
        "print(\"Done!\")\n",
        "\n",
        "### ========== TODO : START ========== ###\n",
        "### part h: prepare TwoLayerNetwork, criterion, and optimizer\n",
        "model_two = TwoLayerNetwork()\n",
        "criterion = torch.nn.CrossEntropyLoss()\n",
        "optimizer = torch.optim.SGD(model_two.parameters(), lr=0.0005)\n",
        "\n",
        "### ========== TODO : END ========== ###\n",
        "\n",
        "print(\"Start training TwoLayerNetwork...\")\n",
        "results_two = train(model_two, criterion, optimizer, train_loader, valid_loader, epochs=31)\n",
        "print(\"Done!\")\n",
        "\n",
        "one_train_loss, one_valid_loss, one_train_acc, one_valid_acc = results_one\n",
        "two_train_loss, two_valid_loss, two_train_acc, two_valid_acc = results_two"
      ],
      "execution_count": null,
      "outputs": [
        {
          "output_type": "stream",
          "name": "stdout",
          "text": [
            "[1 0 0 0 1 0 1 2 2 2]\n",
            "Data preparation...\n",
            "(300, 784) (150, 784)\n",
            "Start training OneLayerNetwork...\n",
            "| epoch  1 | train loss 1.075380 | train acc 0.453333 | valid loss 1.084895 | valid acc 0.453333 |\n",
            "| epoch  2 | train loss 1.021195 | train acc 0.553333 | valid loss 1.030888 | valid acc 0.553333 |\n",
            "| epoch  3 | train loss 0.972527 | train acc 0.626667 | valid loss 0.982578 | valid acc 0.593333 |\n",
            "| epoch  4 | train loss 0.928296 | train acc 0.710000 | valid loss 0.938814 | valid acc 0.640000 |\n",
            "| epoch  5 | train loss 0.887846 | train acc 0.783333 | valid loss 0.898887 | valid acc 0.700000 |\n",
            "| epoch  6 | train loss 0.850737 | train acc 0.826667 | valid loss 0.862347 | valid acc 0.753333 |\n",
            "| epoch  7 | train loss 0.816550 | train acc 0.850000 | valid loss 0.828748 | valid acc 0.793333 |\n",
            "| epoch  8 | train loss 0.784934 | train acc 0.886667 | valid loss 0.797719 | valid acc 0.846667 |\n",
            "| epoch  9 | train loss 0.755629 | train acc 0.896667 | valid loss 0.768988 | valid acc 0.866667 |\n",
            "| epoch 10 | train loss 0.728398 | train acc 0.903333 | valid loss 0.742317 | valid acc 0.873333 |\n",
            "| epoch 11 | train loss 0.703062 | train acc 0.913333 | valid loss 0.717499 | valid acc 0.880000 |\n",
            "| epoch 12 | train loss 0.679445 | train acc 0.920000 | valid loss 0.694398 | valid acc 0.886667 |\n",
            "| epoch 13 | train loss 0.657380 | train acc 0.933333 | valid loss 0.672837 | valid acc 0.886667 |\n",
            "| epoch 14 | train loss 0.636755 | train acc 0.943333 | valid loss 0.652687 | valid acc 0.886667 |\n",
            "| epoch 15 | train loss 0.617427 | train acc 0.943333 | valid loss 0.633801 | valid acc 0.886667 |\n",
            "| epoch 16 | train loss 0.599306 | train acc 0.943333 | valid loss 0.616091 | valid acc 0.886667 |\n",
            "| epoch 17 | train loss 0.582282 | train acc 0.943333 | valid loss 0.599466 | valid acc 0.893333 |\n",
            "| epoch 18 | train loss 0.566266 | train acc 0.943333 | valid loss 0.583834 | valid acc 0.900000 |\n",
            "| epoch 19 | train loss 0.551183 | train acc 0.943333 | valid loss 0.569107 | valid acc 0.900000 |\n",
            "| epoch 20 | train loss 0.536965 | train acc 0.943333 | valid loss 0.555244 | valid acc 0.906667 |\n",
            "| epoch 21 | train loss 0.523532 | train acc 0.943333 | valid loss 0.542154 | valid acc 0.906667 |\n",
            "| epoch 22 | train loss 0.510835 | train acc 0.943333 | valid loss 0.529799 | valid acc 0.906667 |\n",
            "| epoch 23 | train loss 0.498818 | train acc 0.950000 | valid loss 0.518093 | valid acc 0.906667 |\n",
            "| epoch 24 | train loss 0.487429 | train acc 0.950000 | valid loss 0.507001 | valid acc 0.906667 |\n",
            "| epoch 25 | train loss 0.476619 | train acc 0.950000 | valid loss 0.496478 | valid acc 0.906667 |\n",
            "| epoch 26 | train loss 0.466352 | train acc 0.953333 | valid loss 0.486486 | valid acc 0.926667 |\n",
            "| epoch 27 | train loss 0.456584 | train acc 0.953333 | valid loss 0.476995 | valid acc 0.926667 |\n",
            "| epoch 28 | train loss 0.447290 | train acc 0.953333 | valid loss 0.467961 | valid acc 0.926667 |\n",
            "| epoch 29 | train loss 0.438434 | train acc 0.953333 | valid loss 0.459352 | valid acc 0.933333 |\n",
            "| epoch 30 | train loss 0.429982 | train acc 0.956667 | valid loss 0.451143 | valid acc 0.940000 |\n",
            "Done!\n",
            "Start training TwoLayerNetwork...\n",
            "| epoch  1 | train loss 1.112896 | train acc 0.333333 | valid loss 1.113534 | valid acc 0.333333 |\n",
            "| epoch  2 | train loss 1.104948 | train acc 0.333333 | valid loss 1.105568 | valid acc 0.333333 |\n",
            "| epoch  3 | train loss 1.100852 | train acc 0.333333 | valid loss 1.101451 | valid acc 0.333333 |\n",
            "| epoch  4 | train loss 1.098154 | train acc 0.330000 | valid loss 1.098731 | valid acc 0.333333 |\n",
            "| epoch  5 | train loss 1.095942 | train acc 0.353333 | valid loss 1.096500 | valid acc 0.353333 |\n",
            "| epoch  6 | train loss 1.093947 | train acc 0.433333 | valid loss 1.094476 | valid acc 0.393333 |\n",
            "| epoch  7 | train loss 1.092024 | train acc 0.523333 | valid loss 1.092534 | valid acc 0.526667 |\n",
            "| epoch  8 | train loss 1.090164 | train acc 0.560000 | valid loss 1.090639 | valid acc 0.513333 |\n",
            "| epoch  9 | train loss 1.088319 | train acc 0.520000 | valid loss 1.088769 | valid acc 0.480000 |\n",
            "| epoch 10 | train loss 1.086385 | train acc 0.553333 | valid loss 1.086815 | valid acc 0.500000 |\n",
            "| epoch 11 | train loss 1.084498 | train acc 0.580000 | valid loss 1.084904 | valid acc 0.553333 |\n",
            "| epoch 12 | train loss 1.082601 | train acc 0.633333 | valid loss 1.082985 | valid acc 0.593333 |\n",
            "| epoch 13 | train loss 1.080700 | train acc 0.733333 | valid loss 1.081057 | valid acc 0.693333 |\n",
            "| epoch 14 | train loss 1.078817 | train acc 0.776667 | valid loss 1.079151 | valid acc 0.726667 |\n",
            "| epoch 15 | train loss 1.076945 | train acc 0.783333 | valid loss 1.077256 | valid acc 0.746667 |\n",
            "| epoch 16 | train loss 1.075065 | train acc 0.823333 | valid loss 1.075353 | valid acc 0.800000 |\n",
            "| epoch 17 | train loss 1.073226 | train acc 0.760000 | valid loss 1.073492 | valid acc 0.746667 |\n",
            "| epoch 18 | train loss 1.071327 | train acc 0.833333 | valid loss 1.071572 | valid acc 0.800000 |\n",
            "| epoch 19 | train loss 1.069471 | train acc 0.853333 | valid loss 1.069697 | valid acc 0.846667 |\n",
            "| epoch 20 | train loss 1.067613 | train acc 0.863333 | valid loss 1.067815 | valid acc 0.860000 |\n",
            "| epoch 21 | train loss 1.065765 | train acc 0.880000 | valid loss 1.065943 | valid acc 0.853333 |\n",
            "| epoch 22 | train loss 1.063914 | train acc 0.880000 | valid loss 1.064069 | valid acc 0.853333 |\n",
            "| epoch 23 | train loss 1.062054 | train acc 0.856667 | valid loss 1.062197 | valid acc 0.833333 |\n",
            "| epoch 24 | train loss 1.060188 | train acc 0.836667 | valid loss 1.060299 | valid acc 0.820000 |\n",
            "| epoch 25 | train loss 1.058333 | train acc 0.843333 | valid loss 1.058419 | valid acc 0.826667 |\n",
            "| epoch 26 | train loss 1.056471 | train acc 0.870000 | valid loss 1.056542 | valid acc 0.853333 |\n",
            "| epoch 27 | train loss 1.054665 | train acc 0.830000 | valid loss 1.054719 | valid acc 0.820000 |\n",
            "| epoch 28 | train loss 1.052793 | train acc 0.833333 | valid loss 1.052822 | valid acc 0.840000 |\n",
            "| epoch 29 | train loss 1.050928 | train acc 0.853333 | valid loss 1.050923 | valid acc 0.846667 |\n",
            "| epoch 30 | train loss 1.049067 | train acc 0.890000 | valid loss 1.049055 | valid acc 0.866667 |\n",
            "Done!\n"
          ]
        },
        {
          "output_type": "display_data",
          "data": {
            "text/plain": [
              "<Figure size 432x288 with 1 Axes>"
            ],
            "image/png": "[encoded data removed]"
          },
          "metadata": {
            "needs_background": "light"
          }
        },
        {
          "output_type": "display_data",
          "data": {
            "text/plain": [
              "<Figure size 432x288 with 1 Axes>"
            ],
            "image/png": "[encoded data removed]"
          },
          "metadata": {
            "needs_background": "light"
          }
        },
        {
          "output_type": "display_data",
          "data": {
            "text/plain": [
              "<Figure size 432x288 with 1 Axes>"
            ],
            "image/png": "[encoded data removed]"
          },
          "metadata": {
            "needs_background": "light"
          }
        }
      ]
    },
    {
      "cell_type": "code",
      "source": [
        "\n",
        "### ========== TODO : START ========== ###\n",
        "### part i: generate a plot to comare one_train_loss, one_valid_loss, two_train_loss, two_valid_loss\n",
        "plt.figure()\n",
        "plt.plot(one_train_loss, label='train1')\n",
        "plt.plot(one_valid_loss, label='val1')\n",
        "plt.plot(two_train_loss, label='train2')\n",
        "plt.plot(two_valid_loss, label='val2')\n",
        "plt.legend()\n",
        "plt.show()\n",
        "### ========== TODO : END ========== ###\n",
        "\n",
        "### ========== TODO : START ========== ###\n",
        "### part j: generate a plot to comare one_train_acc, one_valid_acc, two_train_acc, two_valid_acc\n",
        "plt.figure()\n",
        "plt.plot(one_train_acc, label='train1')\n",
        "plt.plot(one_valid_acc, label='val1')\n",
        "plt.plot(two_train_acc, label='train2')\n",
        "plt.plot(two_valid_acc, label='val2')\n",
        "plt.legend()\n",
        "plt.show()\n",
        "### ========== TODO : END ========== ##\n",
        "\n",
        "### ========== TODO : START ========== ###\n",
        "### part k: calculate the test accuracy\n",
        "m1acc = evaluate_acc(model_one, test_loader).item()\n",
        "m2acc = evaluate_acc(model_two, test_loader).item()\n",
        "print(m1acc, m2acc)\n",
        "### ========== TODO : END ========== ###\n",
        "\n",
        "### ========== TODO : START ========== ###\n",
        "### part l: replace the SGD optimizer with the Adam optimizer and do the experiments again\n",
        "\n",
        "### ========== TODO : END ========== ###\n",
        "\n",
        "\n",
        "\n"
      ],
      "metadata": {
        "id": "DCYGcy_CoKQM",
        "colab": {
          "base_uri": "https://localhost:8080/",
          "height": 530
        },
        "outputId": "cdf17d36-5a55-489b-e611-b3bbe86a6089"
      },
      "execution_count": null,
      "outputs": [
        {
          "output_type": "display_data",
          "data": {
            "text/plain": [
              "<Figure size 432x288 with 1 Axes>"
            ],
            "image/png": "[encoded data removed]"
          },
          "metadata": {
            "needs_background": "light"
          }
        },
        {
          "output_type": "display_data",
          "data": {
            "text/plain": [
              "<Figure size 432x288 with 1 Axes>"
            ],
            "image/png": "[encoded data removed]"
          },
          "metadata": {
            "needs_background": "light"
          }
        },
        {
          "output_type": "stream",
          "name": "stdout",
          "text": [
            "0.9599999785423279 0.8933333158493042\n"
          ]
        }
      ]
    }
  ]
}
